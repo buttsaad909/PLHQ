{
 "cells": [
  {
   "cell_type": "code",
   "execution_count": 35,
   "metadata": {},
   "outputs": [
    {
     "name": "stdout",
     "output_type": "stream",
     "text": [
      "Last Of Us 5 RPPGs\n",
      "The Last Of Us Saad Adolescents have it particularly tough in the zombie apocalypse. Everyone around them is obsessed with survival--which is certainly understandable--but every ounce of a teenagers instincts is pushing him or her toward goofing off.\n",
      "Need For Speed Underground 3.5 Racing\n",
      "Need For Speed Areeb Adolescents have it particularly tough in the zombie apocalypse. Everyone around them is obsessed with survival--which is certainly understandable--but every ounce of a teenagers instincts is pushing him or her toward goofing off.\n",
      "Batman Arkham Asylum 4.5 SuperHero\n",
      "Batman Arkham Asylum Areeb Adolescents have it particularly tough in the zombie apocalypse. Everyone around them is obsessed with survival--which is certainly understandable--but every ounce of a teenagers instincts is pushing him or her toward goofing off.\n",
      "Call Of Duty 4 Others\n",
      "Call Of Duty Areeb Adolescents have it particularly tough in the zombie apocalypse. Everyone around them is obsessed with survival--which is certainly understandable--but every ounce of a teenagers instincts is pushing him or her toward goofing off.\n"
     ]
    }
   ],
   "source": [
    "RPGs = [{'gamename':'Last Of Us', 'gamerating': 5, 'gamedescription': 'The Witcher is a 2007 action role-playing game developed by CD Projekt Red, and published by Atari on Microsoft Windows and CD Projekt on OS X, based on the novel series of The Witcher by Polish author Andrzej Sapkowski.', 'gamecategory': 'RPPGs'},] \n",
    "Racing = [{'gamename':'Need For Speed Underground', 'gamerating': 3.5, 'gamedescription': 'Need for Speed: Underground is the seventh installment in the Need for Speed series, and was developed by EA Black Box and published by Electronic Arts in 2003. Two different games were produced, one for consoles and Windows, and the other for the Game Boy Advance.', 'gamecategory': 'Racing'}]    \n",
    "Others = [{'gamename':'Call Of Duty', 'gamerating': 4, 'gamedescription': 'Call of Duty is a first-person shooter video game franchise published by Activision. Starting out in 2003, it first focused on games set in World War II, but over time, the series has seen games set in modern times, the midst of the Cold War, futuristic worlds, and outer space.', 'gamecategory': 'Others'}]\n",
    "SuperHero = [{'gamename':'Batman Arkham Asylum', 'gamerating': 4.5, 'gamedescription': 'Arkham Asylum is set in the fictional Arkham Asylum, a facility on Arkham Island off the coast of Gotham City that houses criminally insane supervillains. The game features a large ensemble of characters from the history of Batman comics.', 'gamecategory': 'SuperHero'}]\n",
    "RPGreviews = [{'gamename': 'The Last Of Us','reviewername': 'Saad', 'review': 'Adolescents have it particularly tough in the zombie apocalypse. Everyone around them is obsessed with survival--which is certainly understandable--but every ounce of a teenagers instincts is pushing him or her toward goofing off.', 'graphics': 5, 'storyline': 5, 'gameplay':5},]\n",
    "SuperHeroreview = [{'gamename': 'Batman Arkham Asylum','reviewername': 'Areeb', 'review': 'Adolescents have it particularly tough in the zombie apocalypse. Everyone around them is obsessed with survival--which is certainly understandable--but every ounce of a teenagers instincts is pushing him or her toward goofing off.', 'graphics': 5, 'storyline': 5, 'gameplay':5},]\n",
    "othersreview = [{'gamename': 'Call Of Duty','reviewername': 'Areeb', 'review': 'Adolescents have it particularly tough in the zombie apocalypse. Everyone around them is obsessed with survival--which is certainly understandable--but every ounce of a teenagers instincts is pushing him or her toward goofing off.', 'graphics': 5, 'storyline': 5, 'gameplay':5},]\n",
    "Racingreview = [{'gamename': 'Need For Speed','reviewername': 'Areeb', 'review': 'Adolescents have it particularly tough in the zombie apocalypse. Everyone around them is obsessed with survival--which is certainly understandable--but every ounce of a teenagers instincts is pushing him or her toward goofing off.', 'graphics': 5, 'storyline': 5, 'gameplay':5},]\n",
    "categories = {'RPGs' : {'game': RPGs, 'review': RPGreviews},\n",
    "              'Racing' : {'game': Racing, 'review': Racingreview},\n",
    "              'SuperHero': {'game': SuperHero, 'review': SuperHeroreview},\n",
    "              'Others': {'game': Others, 'review': othersreview}\n",
    "             }\n",
    "#for cat, cat_data in categories.items():\n",
    " #   for x in cat_data['review']:\n",
    "  #      print(x['gamename'], x['reviewername'], x['review'])\n",
    "   # break;\n",
    "\n",
    "for cat, cat_data in categories.items():\n",
    "    for p in cat_data['game']:\n",
    "        print(p['gamename'], p['gamerating'], p['gamecategory'])\n",
    "    for x in cat_data['review']:\n",
    "        print(x['gamename'], x['reviewername'], x['review'])\n"
   ]
  },
  {
   "cell_type": "code",
   "execution_count": 58,
   "metadata": {},
   "outputs": [
    {
     "name": "stdout",
     "output_type": "stream",
     "text": [
      "Need For Speed Underground aa I did not like this game\n",
      "Need For Speed Underground x I did like this game\n",
      "The Last Of Us va I did not like this game\n",
      "The Last Of Us qw I did like this game\n",
      "The Witcher 3 as I did not like this game\n",
      "The Witcher 3 es I did like this game\n",
      "Batman Arkham Asylum blabla12 I did not like this game\n",
      "Batman Arkham Asylum ble I did like this game\n",
      "Call Of Duty blabla12 I did not like this game\n",
      "Call Of Duty bla I did like this game\n"
     ]
    }
   ],
   "source": [
    "RPGs = [{'gamename':'The Last Of Us', 'gamerating': 4.5, 'gamedescription': 'The Last of Us is a 2013 action-adventure survival horror video game developed by Naughty Dog and published by Sony Computer Entertainment. Players control Joel, a smuggler tasked with escorting a teenage girl, Ellie, across a post-apocalyptic United States. The Last of Us is played from a third-person perspective.', 'gamecategory': 'RPGs'},{'gamename':'The Witcher 3', 'gamerating': 4.5, 'gamedescription': 'The Last of Us is a 2013 action-adventure survival horror video game developed by Naughty Dog and published by Sony Computer Entertainment. Players control Joel, a smuggler tasked with escorting a teenage girl, Ellie, across a post-apocalyptic United States. The Last of Us is played from a third-person perspective.', 'gamecategory': 'RPGs'}, ] \n",
    "Racing = [{'gamename':'Need For Speed Underground', 'gamerating': 3.5, 'gamedescription': 'Need for Speed: Underground is the seventh installment in the Need for Speed series, and was developed by EA Black Box and published by Electronic Arts in 2003. Two different games were produced, one for consoles and Windows, and the other for the Game Boy Advance.', 'gamecategory': 'Racing'}]\n",
    "    \n",
    "Others = [{'gamename':'Call Of Duty', 'gamerating': 4, 'gamedescription': 'Call of Duty is a first-person shooter video game franchise published by Activision. Starting out in 2003, it first focused on games set in World War II, but over time, the series has seen games set in modern times, the midst of the Cold War, futuristic worlds, and outer space.', 'gamecategory': 'Others'}]\n",
    "    \n",
    "SuperHero = [{'gamename':'Batman Arkham Asylum', 'gamerating': 4.5, 'gamedescription': 'Arkham Asylum is set in the fictional Arkham Asylum, a facility on Arkham Island off the coast of Gotham City that houses criminally insane supervillains. The game features a large ensemble of characters from the history of Batman comics.', 'gamecategory': 'SuperHero'}]\n",
    "    \n",
    "RPGreviews = [{'gamename': 'The Last Of Us','reviewername': 'Saad', 'review': 'Adolescents have it particularly tough in the zombie apocalypse. Everyone around them is obsessed with survival--which is certainly understandable--but every ounce of a teenagers instincts is pushing him or her toward goofing off.', 'graphics': 5, 'storyline': 5, 'gameplay':5, 'comments':[{'commentname':'va', 'comment':'I did not like this game'}, {'commentname':'qw', 'comment':'I did like this game'},]},\n",
    "              {'gamename': 'The Witcher 3','reviewername': 'idk', 'review': 'Adolescents have it particularly tough in the zombie apocalypse. Everyone around them is obsessed with survival--which is certainly understandable--but every ounce of a teenagers instincts is pushing him or her toward goofing off.', 'graphics': 5, 'storyline': 3, 'gameplay':4, 'comments':[{'commentname':'as', 'comment':'I did not like this game'}, {'commentname':'es', 'comment':'I did like this game'},]}]\n",
    "    \n",
    "SuperHeroreview = [{'gamename': 'Batman Arkham Asylum','reviewername': 'Areeb', 'review': 'ggggggggggggggggg g gggggggggggggggggg  ggggggggggggggggggg ggggggggggggggg gggggggggggggggg ggggggggggggg ggggggggg', 'graphics': 2, 'storyline': 3, 'gameplay':4, 'comments':[{'commentname':'blabla12', 'comment':'I did not like this game'}, {'commentname':'ble', 'comment':'I did like this game'},]}]\n",
    "    \n",
    "othersreview = [{'gamename': 'Call Of Duty','reviewername': 'Bers', 'review': 'ssssssssssssssssss ssssssssssssssssssssss ssssssss sssssssssssssss sssssssssssssss  ssssssssssssssssssssssssss sssssssssssssssss', 'graphics': 4, 'storyline': 5, 'gameplay':2,'comments':[{'commentname':'blabla12', 'comment':'I did not like this game'}, {'commentname':'bla', 'comment':'I did like this game'},]}]\n",
    "    \n",
    "Racingreview = [{'gamename': 'Need For Speed Underground','reviewername': 'Aaron', 'review': 'aaaaaaaaaaaa aaaaaaaaaa aaaaaaaaaaaaaaaaa aaaaaaaaaaaaaaaaaaaaa aaaaaaaaaaaaaaaaaaaaaa aaaaaaaaaaaaaaaaaaa aaaaaaaaaaaaaaaaaaaaaaaaaaaaaaaaaaaaaaaaaaaaaaaaa aaaa aaa', 'graphics': 5, 'storyline': 3, 'gameplay':4, 'comments':[{'commentname':'aa', 'comment':'I did not like this game'}, {'commentname':'x', 'comment':'I did like this game'},]}]    \n",
    "categories = {'Racing' : {'game': Racing, 'review': Racingreview},\n",
    "              'RPGs' : {'game': RPGs, 'review': RPGreviews},\n",
    "              'SuperHero': {'game': SuperHero, 'review': SuperHeroreview},\n",
    "              'Others': {'game': Others, 'review': othersreview},\n",
    "              }\n",
    "\n",
    "for cat, cat_data in categories.items():\n",
    "    for p in cat_data['game']:\n",
    "        #add_game(p['gamename'], p['gamerating'], p['gamedescription'], p['gamecategory'])\n",
    "        \n",
    "        for x in cat_data['review']:\n",
    "            if x['gamename'] == p['gamename']:\n",
    "                #d = add_game(p['gamename'], p['gamerating'], p['gamedescription'], p['gamecategory'])\n",
    "                #add_review(d,x['gamename'], x['reviewername'], x['review'],x['graphics'], x['storyline'], x['gameplay'])\n",
    "                #a = (d,x['gamename'], x['reviewername'], x['review'],x['graphics'], x['storyline'], x['gameplay'])\n",
    "                for z in x['comments']:\n",
    "                    print(x['gamename'],z['commentname'], z['comment'] )"
   ]
  },
  {
   "cell_type": "code",
   "execution_count": null,
   "metadata": {},
   "outputs": [],
   "source": []
  }
 ],
 "metadata": {
  "kernelspec": {
   "display_name": "Python 3",
   "language": "python",
   "name": "python3"
  },
  "language_info": {
   "codemirror_mode": {
    "name": "ipython",
    "version": 3
   },
   "file_extension": ".py",
   "mimetype": "text/x-python",
   "name": "python",
   "nbconvert_exporter": "python",
   "pygments_lexer": "ipython3",
   "version": "3.6.5"
  }
 },
 "nbformat": 4,
 "nbformat_minor": 2
}
